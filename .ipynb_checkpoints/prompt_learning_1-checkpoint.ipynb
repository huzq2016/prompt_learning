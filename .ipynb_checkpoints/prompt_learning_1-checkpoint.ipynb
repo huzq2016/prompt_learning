{
 "cells": [
  {
   "cell_type": "raw",
   "id": "079d2dd1",
   "metadata": {},
   "source": [
    "from https://savasy-22028.medium.com/prompting-in-nlp-prompt-based-zero-shot-learning-3f34bfdb2b72"
   ]
  },
  {
   "cell_type": "code",
   "execution_count": 1,
   "id": "9d4bdef5",
   "metadata": {},
   "outputs": [],
   "source": [
    "from transformers import AutoModelForMaskedLM , AutoTokenizer\n",
    "import torch\n",
    "model_path=\"bert-base-uncased\"\n",
    "tokenizer = AutoTokenizer.from_pretrained(model_path)\n"
   ]
  },
  {
   "cell_type": "code",
   "execution_count": 5,
   "id": "3e28e8fb",
   "metadata": {},
   "outputs": [
    {
     "ename": "ImportError",
     "evalue": "cannot import name 'Prompting' from 'prompt' (/Users/jack.hu/github/prompt_learning/prompt.py)",
     "output_type": "error",
     "traceback": [
      "\u001b[0;31m---------------------------------------------------------------------------\u001b[0m",
      "\u001b[0;31mImportError\u001b[0m                               Traceback (most recent call last)",
      "Cell \u001b[0;32mIn[5], line 1\u001b[0m\n\u001b[0;32m----> 1\u001b[0m \u001b[38;5;28;01mfrom\u001b[39;00m \u001b[38;5;21;01mprompt\u001b[39;00m \u001b[38;5;28;01mimport\u001b[39;00m Prompting\n\u001b[1;32m      2\u001b[0m prompting\u001b[38;5;241m=\u001b[39m Prompting(model\u001b[38;5;241m=\u001b[39mmodel_path)\n\u001b[1;32m      3\u001b[0m prompt\u001b[38;5;241m=\u001b[39m\u001b[38;5;124m\"\u001b[39m\u001b[38;5;124mBecause it was [MASK].\u001b[39m\u001b[38;5;124m\"\u001b[39m\n",
      "\u001b[0;31mImportError\u001b[0m: cannot import name 'Prompting' from 'prompt' (/Users/jack.hu/github/prompt_learning/prompt.py)"
     ]
    }
   ],
   "source": [
    "from .prompt import Prompting\n",
    "prompting= Prompting(model=model_path)\n",
    "prompt=\"Because it was [MASK].\""
   ]
  },
  {
   "cell_type": "code",
   "execution_count": null,
   "id": "25bf12c5",
   "metadata": {},
   "outputs": [],
   "source": []
  },
  {
   "cell_type": "code",
   "execution_count": null,
   "id": "68401812",
   "metadata": {},
   "outputs": [],
   "source": []
  }
 ],
 "metadata": {
  "kernelspec": {
   "display_name": "base",
   "language": "python",
   "name": "base"
  },
  "language_info": {
   "codemirror_mode": {
    "name": "ipython",
    "version": 3
   },
   "file_extension": ".py",
   "mimetype": "text/x-python",
   "name": "python",
   "nbconvert_exporter": "python",
   "pygments_lexer": "ipython3",
   "version": "3.10.6"
  }
 },
 "nbformat": 4,
 "nbformat_minor": 5
}
